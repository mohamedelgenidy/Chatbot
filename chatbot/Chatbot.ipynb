{
  "cells": [
    {
      "cell_type": "code",
      "execution_count": 1,
      "metadata": {
        "colab": {
          "base_uri": "https://localhost:8080/"
        },
        "id": "6jGgxqVKOCeH",
        "outputId": "5047ce20-613c-42e7-fa19-55f8299f838b"
      },
      "outputs": [
        {
          "name": "stdout",
          "output_type": "stream",
          "text": [
            "Collecting pandas==1.5.3\n",
            "  Downloading pandas-1.5.3-cp310-cp310-manylinux_2_17_x86_64.manylinux2014_x86_64.whl.metadata (11 kB)\n",
            "Requirement already satisfied: python-dateutil>=2.8.1 in /usr/local/lib/python3.10/dist-packages (from pandas==1.5.3) (2.9.0.post0)\n",
            "Requirement already satisfied: pytz>=2020.1 in /usr/local/lib/python3.10/dist-packages (from pandas==1.5.3) (2024.1)\n",
            "Requirement already satisfied: numpy>=1.21.0 in /usr/local/lib/python3.10/dist-packages (from pandas==1.5.3) (1.26.4)\n",
            "Requirement already satisfied: six>=1.5 in /usr/local/lib/python3.10/dist-packages (from python-dateutil>=2.8.1->pandas==1.5.3) (1.16.0)\n",
            "Downloading pandas-1.5.3-cp310-cp310-manylinux_2_17_x86_64.manylinux2014_x86_64.whl (12.1 MB)\n",
            "\u001b[2K   \u001b[90m━━━━━━━━━━━━━━━━━━━━━━━━━━━━━━━━━━━━━━━━\u001b[0m \u001b[32m12.1/12.1 MB\u001b[0m \u001b[31m44.8 MB/s\u001b[0m eta \u001b[36m0:00:00\u001b[0m\n",
            "\u001b[?25hInstalling collected packages: pandas\n",
            "  Attempting uninstall: pandas\n",
            "    Found existing installation: pandas 2.1.4\n",
            "    Uninstalling pandas-2.1.4:\n",
            "      Successfully uninstalled pandas-2.1.4\n",
            "\u001b[31mERROR: pip's dependency resolver does not currently take into account all the packages that are installed. This behaviour is the source of the following dependency conflicts.\n",
            "google-colab 1.0.0 requires pandas==2.1.4, but you have pandas 1.5.3 which is incompatible.\u001b[0m\u001b[31m\n",
            "\u001b[0mSuccessfully installed pandas-1.5.3\n"
          ]
        }
      ],
      "source": [
        "!pip install pandas==1.5.3"
      ]
    },
    {
      "cell_type": "code",
      "execution_count": null,
      "metadata": {
        "colab": {
          "base_uri": "https://localhost:8080/"
        },
        "id": "7s2dkleqBw-1",
        "outputId": "a050d86d-2fca-4fac-c3c7-dcd511b4f388"
      },
      "outputs": [
        {
          "name": "stdout",
          "output_type": "stream",
          "text": [
            "Requirement already satisfied: tensorflow in /usr/local/lib/python3.10/dist-packages (2.15.0)\n",
            "Collecting tensorflow\n",
            "  Downloading tensorflow-2.17.0-cp310-cp310-manylinux_2_17_x86_64.manylinux2014_x86_64.whl.metadata (4.2 kB)\n",
            "Requirement already satisfied: absl-py>=1.0.0 in /usr/local/lib/python3.10/dist-packages (from tensorflow) (1.4.0)\n",
            "Requirement already satisfied: astunparse>=1.6.0 in /usr/local/lib/python3.10/dist-packages (from tensorflow) (1.6.3)\n",
            "Requirement already satisfied: flatbuffers>=24.3.25 in /usr/local/lib/python3.10/dist-packages (from tensorflow) (24.3.25)\n",
            "Requirement already satisfied: gast!=0.5.0,!=0.5.1,!=0.5.2,>=0.2.1 in /usr/local/lib/python3.10/dist-packages (from tensorflow) (0.6.0)\n",
            "Requirement already satisfied: google-pasta>=0.1.1 in /usr/local/lib/python3.10/dist-packages (from tensorflow) (0.2.0)\n",
            "Requirement already satisfied: h5py>=3.10.0 in /usr/local/lib/python3.10/dist-packages (from tensorflow) (3.11.0)\n",
            "Requirement already satisfied: libclang>=13.0.0 in /usr/local/lib/python3.10/dist-packages (from tensorflow) (18.1.1)\n",
            "Collecting ml-dtypes<0.5.0,>=0.3.1 (from tensorflow)\n",
            "  Downloading ml_dtypes-0.4.0-cp310-cp310-manylinux_2_17_x86_64.manylinux2014_x86_64.whl.metadata (20 kB)\n",
            "Requirement already satisfied: opt-einsum>=2.3.2 in /usr/local/lib/python3.10/dist-packages (from tensorflow) (3.3.0)\n",
            "Requirement already satisfied: packaging in /usr/local/lib/python3.10/dist-packages (from tensorflow) (24.1)\n",
            "Requirement already satisfied: protobuf!=4.21.0,!=4.21.1,!=4.21.2,!=4.21.3,!=4.21.4,!=4.21.5,<5.0.0dev,>=3.20.3 in /usr/local/lib/python3.10/dist-packages (from tensorflow) (3.20.3)\n",
            "Requirement already satisfied: requests<3,>=2.21.0 in /usr/local/lib/python3.10/dist-packages (from tensorflow) (2.31.0)\n",
            "Requirement already satisfied: setuptools in /usr/local/lib/python3.10/dist-packages (from tensorflow) (71.0.4)\n",
            "Requirement already satisfied: six>=1.12.0 in /usr/local/lib/python3.10/dist-packages (from tensorflow) (1.16.0)\n",
            "Requirement already satisfied: termcolor>=1.1.0 in /usr/local/lib/python3.10/dist-packages (from tensorflow) (2.4.0)\n",
            "Requirement already satisfied: typing-extensions>=3.6.6 in /usr/local/lib/python3.10/dist-packages (from tensorflow) (4.12.2)\n",
            "Requirement already satisfied: wrapt>=1.11.0 in /usr/local/lib/python3.10/dist-packages (from tensorflow) (1.14.1)\n",
            "Requirement already satisfied: grpcio<2.0,>=1.24.3 in /usr/local/lib/python3.10/dist-packages (from tensorflow) (1.65.1)\n",
            "Collecting tensorboard<2.18,>=2.17 (from tensorflow)\n",
            "  Downloading tensorboard-2.17.0-py3-none-any.whl.metadata (1.6 kB)\n",
            "Collecting keras>=3.2.0 (from tensorflow)\n",
            "  Downloading keras-3.4.1-py3-none-any.whl.metadata (5.8 kB)\n",
            "Requirement already satisfied: tensorflow-io-gcs-filesystem>=0.23.1 in /usr/local/lib/python3.10/dist-packages (from tensorflow) (0.37.1)\n",
            "Requirement already satisfied: numpy<2.0.0,>=1.23.5 in /usr/local/lib/python3.10/dist-packages (from tensorflow) (1.26.4)\n",
            "Requirement already satisfied: wheel<1.0,>=0.23.0 in /usr/local/lib/python3.10/dist-packages (from astunparse>=1.6.0->tensorflow) (0.43.0)\n",
            "Requirement already satisfied: rich in /usr/local/lib/python3.10/dist-packages (from keras>=3.2.0->tensorflow) (13.7.1)\n",
            "Collecting namex (from keras>=3.2.0->tensorflow)\n",
            "  Downloading namex-0.0.8-py3-none-any.whl.metadata (246 bytes)\n",
            "Collecting optree (from keras>=3.2.0->tensorflow)\n",
            "  Downloading optree-0.12.1-cp310-cp310-manylinux_2_17_x86_64.manylinux2014_x86_64.whl.metadata (47 kB)\n",
            "\u001b[2K     \u001b[90m━━━━━━━━━━━━━━━━━━━━━━━━━━━━━━━━━━━━━━━━\u001b[0m \u001b[32m47.8/47.8 kB\u001b[0m \u001b[31m374.2 kB/s\u001b[0m eta \u001b[36m0:00:00\u001b[0m\n",
            "\u001b[?25hRequirement already satisfied: charset-normalizer<4,>=2 in /usr/local/lib/python3.10/dist-packages (from requests<3,>=2.21.0->tensorflow) (3.3.2)\n",
            "Requirement already satisfied: idna<4,>=2.5 in /usr/local/lib/python3.10/dist-packages (from requests<3,>=2.21.0->tensorflow) (3.7)\n",
            "Requirement already satisfied: urllib3<3,>=1.21.1 in /usr/local/lib/python3.10/dist-packages (from requests<3,>=2.21.0->tensorflow) (2.0.7)\n",
            "Requirement already satisfied: certifi>=2017.4.17 in /usr/local/lib/python3.10/dist-packages (from requests<3,>=2.21.0->tensorflow) (2024.7.4)\n",
            "Requirement already satisfied: markdown>=2.6.8 in /usr/local/lib/python3.10/dist-packages (from tensorboard<2.18,>=2.17->tensorflow) (3.6)\n",
            "Requirement already satisfied: tensorboard-data-server<0.8.0,>=0.7.0 in /usr/local/lib/python3.10/dist-packages (from tensorboard<2.18,>=2.17->tensorflow) (0.7.2)\n",
            "Requirement already satisfied: werkzeug>=1.0.1 in /usr/local/lib/python3.10/dist-packages (from tensorboard<2.18,>=2.17->tensorflow) (3.0.3)\n",
            "Requirement already satisfied: MarkupSafe>=2.1.1 in /usr/local/lib/python3.10/dist-packages (from werkzeug>=1.0.1->tensorboard<2.18,>=2.17->tensorflow) (2.1.5)\n",
            "Requirement already satisfied: markdown-it-py>=2.2.0 in /usr/local/lib/python3.10/dist-packages (from rich->keras>=3.2.0->tensorflow) (3.0.0)\n",
            "Requirement already satisfied: pygments<3.0.0,>=2.13.0 in /usr/local/lib/python3.10/dist-packages (from rich->keras>=3.2.0->tensorflow) (2.18.0)\n",
            "Requirement already satisfied: mdurl~=0.1 in /usr/local/lib/python3.10/dist-packages (from markdown-it-py>=2.2.0->rich->keras>=3.2.0->tensorflow) (0.1.2)\n",
            "Downloading tensorflow-2.17.0-cp310-cp310-manylinux_2_17_x86_64.manylinux2014_x86_64.whl (601.3 MB)\n",
            "\u001b[2K   \u001b[90m━━━━━━━━━━━━━━━━━━━━━━━━━━━━━━━━━━━━━━━━\u001b[0m \u001b[32m601.3/601.3 MB\u001b[0m \u001b[31m1.2 MB/s\u001b[0m eta \u001b[36m0:00:00\u001b[0m\n",
            "\u001b[?25hDownloading keras-3.4.1-py3-none-any.whl (1.1 MB)\n",
            "\u001b[2K   \u001b[90m━━━━━━━━━━━━━━━━━━━━━━━━━━━━━━━━━━━━━━━━\u001b[0m \u001b[32m1.1/1.1 MB\u001b[0m \u001b[31m3.8 MB/s\u001b[0m eta \u001b[36m0:00:00\u001b[0m\n",
            "\u001b[?25hDownloading ml_dtypes-0.4.0-cp310-cp310-manylinux_2_17_x86_64.manylinux2014_x86_64.whl (2.2 MB)\n",
            "\u001b[2K   \u001b[90m━━━━━━━━━━━━━━━━━━━━━━━━━━━━━━━━━━━━━━━━\u001b[0m \u001b[32m2.2/2.2 MB\u001b[0m \u001b[31m3.7 MB/s\u001b[0m eta \u001b[36m0:00:00\u001b[0m\n",
            "\u001b[?25hDownloading tensorboard-2.17.0-py3-none-any.whl (5.5 MB)\n",
            "\u001b[2K   \u001b[90m━━━━━━━━━━━━━━━━━━━━━━━━━━━━━━━━━━━━━━━━\u001b[0m \u001b[32m5.5/5.5 MB\u001b[0m \u001b[31m4.3 MB/s\u001b[0m eta \u001b[36m0:00:00\u001b[0m\n",
            "\u001b[?25hDownloading namex-0.0.8-py3-none-any.whl (5.8 kB)\n",
            "Downloading optree-0.12.1-cp310-cp310-manylinux_2_17_x86_64.manylinux2014_x86_64.whl (347 kB)\n",
            "\u001b[2K   \u001b[90m━━━━━━━━━━━━━━━━━━━━━━━━━━━━━━━━━━━━━━━━\u001b[0m \u001b[32m347.7/347.7 kB\u001b[0m \u001b[31m4.2 MB/s\u001b[0m eta \u001b[36m0:00:00\u001b[0m\n",
            "\u001b[?25hInstalling collected packages: namex, optree, ml-dtypes, tensorboard, keras, tensorflow\n",
            "  Attempting uninstall: ml-dtypes\n",
            "    Found existing installation: ml-dtypes 0.2.0\n",
            "    Uninstalling ml-dtypes-0.2.0:\n",
            "      Successfully uninstalled ml-dtypes-0.2.0\n",
            "  Attempting uninstall: tensorboard\n",
            "    Found existing installation: tensorboard 2.15.2\n",
            "    Uninstalling tensorboard-2.15.2:\n",
            "      Successfully uninstalled tensorboard-2.15.2\n",
            "  Attempting uninstall: keras\n",
            "    Found existing installation: keras 2.15.0\n",
            "    Uninstalling keras-2.15.0:\n",
            "      Successfully uninstalled keras-2.15.0\n"
          ]
        }
      ],
      "source": [
        "!pip install --upgrade tensorflow"
      ]
    },
    {
      "cell_type": "code",
      "execution_count": null,
      "metadata": {
        "id": "5Jv-Y5zvaW8W"
      },
      "outputs": [],
      "source": [
        "!pip install numpy"
      ]
    },
    {
      "cell_type": "code",
      "execution_count": null,
      "metadata": {
        "id": "jhiAimOENvKb"
      },
      "outputs": [],
      "source": [
        "import tensorflow as tf\n",
        "import numpy as np\n",
        "import pandas as pd\n",
        "import sklearn\n",
        "from sklearn.model_selection import train_test_split\n",
        "import re\n",
        "from sklearn import datasets, model_selection, linear_model, metrics, preprocessing"
      ]
    },
    {
      "cell_type": "code",
      "execution_count": null,
      "metadata": {
        "id": "qiRQzRdfS98h"
      },
      "outputs": [],
      "source": [
        "! mkdir ~/.kaggle\n",
        "!cp kaggle.json ~/.kaggle\n",
        "! chmod 600 ~/.kaggle/kaggle.json"
      ]
    },
    {
      "cell_type": "code",
      "execution_count": null,
      "metadata": {
        "id": "lMQsI4LeS-EZ"
      },
      "outputs": [],
      "source": [
        "! kaggle datasets download -d hijest/cleaned-data-for-the-chatbot-collected-from-movies"
      ]
    },
    {
      "cell_type": "code",
      "execution_count": null,
      "metadata": {
        "id": "oMYGaXvSS-P5"
      },
      "outputs": [],
      "source": [
        "!unzip /content/cleaned-data-for-the-chatbot-collected-from-movies.zip"
      ]
    },
    {
      "cell_type": "code",
      "execution_count": null,
      "metadata": {
        "id": "TgTB3vtkqdT0"
      },
      "outputs": [],
      "source": [
        "data_df = pd.read_csv('/content/dialogs_expanded.csv' )"
      ]
    },
    {
      "cell_type": "code",
      "execution_count": null,
      "metadata": {
        "id": "vb5f6sgczs3U"
      },
      "outputs": [],
      "source": [
        "data_df.drop(['Unnamed: 0', 'question_as_int', 'answer_as_int', 'question_len', 'answer_len'],axis=1,inplace=True)"
      ]
    },
    {
      "cell_type": "code",
      "execution_count": null,
      "metadata": {
        "id": "D2eLSIRWb9S-"
      },
      "outputs": [],
      "source": [
        "data_df.head()"
      ]
    },
    {
      "cell_type": "code",
      "execution_count": null,
      "metadata": {
        "id": "c1FTH3I8zs3V"
      },
      "outputs": [],
      "source": [
        "data_df.info()"
      ]
    },
    {
      "cell_type": "code",
      "execution_count": null,
      "metadata": {
        "id": "q1ACfUtvzs3Y"
      },
      "outputs": [],
      "source": [
        "def clean_text(text):\n",
        "    text = text.lower()\n",
        "    text = re.sub(' ',' ',text)\n",
        "    text = re.sub('\\[.*?\\]',' ', text)\n",
        "    text = re.sub('https://\\s+|www\\.\\s+',' ',text)\n",
        "    text = re.sub('<.+?>+',' ',text)\n",
        "    text = re.sub('\\n',' ',text)\n",
        "    text = re.sub(r'[^\\w]',' ',text)\n",
        "    text = re.sub('\\w*\\d\\w*',' ',text)\n",
        "    text = re.sub(' ',' ',text)\n",
        "    return text\n",
        "\n",
        "data_df.question = data_df.question.map(clean_text)\n",
        "data_df.answer = data_df.answer.map(clean_text)"
      ]
    },
    {
      "cell_type": "code",
      "execution_count": null,
      "metadata": {
        "id": "1wi5GYADzs3Z"
      },
      "outputs": [],
      "source": [
        "def add_start_end(text):\n",
        "    text = f'<start> {text} <end>'\n",
        "    return text\n",
        "\n",
        "data_df.question = data_df.question.map(add_start_end)\n",
        "data_df.answer = data_df.answer.map(add_start_end)"
      ]
    },
    {
      "cell_type": "code",
      "execution_count": null,
      "metadata": {
        "id": "_L_xky2l7bpw"
      },
      "outputs": [],
      "source": [
        "data_df.head()"
      ]
    },
    {
      "cell_type": "code",
      "execution_count": null,
      "metadata": {
        "id": "w-jZFIUuzs3a"
      },
      "outputs": [],
      "source": [
        "def tokenize(lang):\n",
        "    lang_tokenizer =tf.keras.preprocessing.text.Tokenizer(\n",
        "        filters = '!\"#$%&()*+,-./:;.=?@[\\\\]^_`{|}~',  oov_token= '<oov>'\n",
        "    )\n",
        "    lang_tokenizer.fit_on_texts(lang)\n",
        "    tensor = lang_tokenizer.texts_to_sequences(lang)\n",
        "    tensor = tf.keras.preprocessing.sequence.pad_sequences(tensor, padding= 'post')\n",
        "    return tensor, lang_tokenizer"
      ]
    },
    {
      "cell_type": "code",
      "execution_count": null,
      "metadata": {
        "id": "51JkO5d0zs3b"
      },
      "outputs": [],
      "source": [
        "question_squence, question_tokenizer = tokenize(data_df.question)\n",
        "answer_squence, answer_tokenizer = tokenize(data_df.answer)"
      ]
    },
    {
      "cell_type": "code",
      "execution_count": null,
      "metadata": {
        "id": "B4_V8qSXzs3c"
      },
      "outputs": [],
      "source": [
        "x_train, x_test, y_train, y_test = model_selection.train_test_split(question_squence,\n",
        "                     answer_squence, test_size=0.1, random_state=42)\n",
        "\n",
        "x_train.shape, x_test.shape, y_train.shape, y_test.shape"
      ]
    },
    {
      "cell_type": "code",
      "execution_count": null,
      "metadata": {
        "id": "npVZ603Lzs3e"
      },
      "outputs": [],
      "source": [
        "def convert (lang, tensor):\n",
        "    for t in tensor:\n",
        "        if t!=0:\n",
        "            print('%d---> %s' % (t, lang.index_word[t]))\n",
        "\n",
        "print('Question')\n",
        "convert(question_tokenizer, x_train[0])\n",
        "print()\n",
        "print('Answer')\n",
        "convert(answer_tokenizer, y_train[0])\n"
      ]
    },
    {
      "cell_type": "code",
      "execution_count": null,
      "metadata": {
        "id": "Xv4A5TnAzs3f"
      },
      "outputs": [],
      "source": [
        "vocab_inp_size = len(question_tokenizer.word_index)+1\n",
        "vocab_tar_size = len (answer_tokenizer.word_index)+1\n",
        "embedding_dim = 256\n",
        "units = 1024\n",
        "batch_size = 32"
      ]
    },
    {
      "cell_type": "code",
      "execution_count": null,
      "metadata": {
        "id": "GMhltr27zs3g"
      },
      "outputs": [],
      "source": [
        "def create_dataset(x, y, batch_size=32):\n",
        "    data = tf.data.Dataset.from_tensor_slices((x, y))\n",
        "\n",
        "    data = data.shuffle(1028)\n",
        "    data = data.batch(batch_size, drop_remainder=True)\n",
        "\n",
        "    data = data.prefetch(tf.data.experimental.AUTOTUNE)\n",
        "\n",
        "    return data\n",
        "\n",
        "train_dataset = create_dataset(x_train, y_train)\n",
        "test_dataset = create_dataset(x_test, y_test)"
      ]
    },
    {
      "cell_type": "code",
      "execution_count": null,
      "metadata": {
        "id": "6h4SZN30zs3g"
      },
      "outputs": [],
      "source": [
        "for Q, A in train_dataset.take(1):\n",
        "    print(f'Question:{Q.shape}\\n{Q}')\n",
        "\n",
        "    print(f'Answer:{A.shape}\\n{A}')"
      ]
    },
    {
      "cell_type": "code",
      "execution_count": null,
      "metadata": {
        "id": "eqQf0BGEzs3h"
      },
      "outputs": [],
      "source": [
        "class Encoder(tf.keras.Model):\n",
        "  def __init__(self, vocab_size, embedding_dim, encoder_units, batch_size):\n",
        "      super(Encoder, self).__init__()\n",
        "\n",
        "      self.batch_size = batch_size\n",
        "      self.encoder_units = encoder_units\n",
        "      self.embedding = tf.keras.layers.Embedding(vocab_size, embedding_dim, mask_zero=True)\n",
        "      self.gru = tf.keras.layers.GRU(self.encoder_units,\n",
        "                                           return_sequences=True,\n",
        "                                           return_state=True,\n",
        "                                           recurrent_initializer = 'glorot_uniform')\n",
        "\n",
        "  def call(self, x, hidden):\n",
        "    x = self.embedding(x)\n",
        "    output, state = self.gru(x, initial_state = hidden)\n",
        "    return output, state\n",
        "\n",
        "  def initialize_hidden_state(self):\n",
        "    return tf.zeros((self.batch_size, self.encoder_units))"
      ]
    },
    {
      "cell_type": "code",
      "execution_count": null,
      "metadata": {
        "id": "e3STXgU8zs3i"
      },
      "outputs": [],
      "source": [
        "class Decoder(tf.keras.Model):\n",
        "  def __init__(self, vocab_size, embedding_dim, decoder_units, batch_size):\n",
        "      super(Decoder, self).__init__()\n",
        "\n",
        "      self.batch_size = batch_size\n",
        "      self.decoder_units = decoder_units\n",
        "      self.embedding = tf.keras.layers.Embedding(vocab_size, embedding_dim, mask_zero=True)\n",
        "      self.gru = tf.keras.layers.GRU(self.decoder_units,\n",
        "                                           return_sequences=True,\n",
        "                                           return_state=True,\n",
        "                                           recurrent_initializer = 'glorot_uniform')\n",
        "\n",
        "      self.fc = tf.keras.layers.Dense(vocab_size)\n",
        "\n",
        "\n",
        "  def call(self, x, hidden):\n",
        "    x = self.embedding(x)\n",
        "    output, hidden = self.gru(x, initial_state = hidden)\n",
        "    output = tf.reshape(output, (-1, output.shape[2]))\n",
        "    x =  tf.nn.softmax(self.fc(output))\n",
        "    return x, hidden"
      ]
    },
    {
      "cell_type": "code",
      "execution_count": null,
      "metadata": {
        "id": "0IB4XO3Pzs3j"
      },
      "outputs": [],
      "source": [
        "vocab_inp_size = len(question_tokenizer.word_index) + 10000\n",
        "vocab_tar_size = len(answer_tokenizer.word_index) + 1\n",
        "embedding_dim = 256\n",
        "units = 1024\n",
        "batch_size = 32\n",
        "\n",
        "encoder = Encoder(vocab_inp_size, embedding_dim, units, batch_size)\n",
        "sample_hidden = encoder.initialize_hidden_state()\n",
        "sample_output, sample_hidden = encoder(Q, sample_hidden)\n",
        "print('Encoder output shape: (batch size, sequence length, units) {}'.format(sample_output.shape))\n",
        "print('Encoder Hidden state shape: (batch size, units) {}'.format(sample_hidden.shape))"
      ]
    },
    {
      "cell_type": "code",
      "execution_count": null,
      "metadata": {
        "id": "1HIQV4b4zs3k"
      },
      "outputs": [],
      "source": [
        "decoder = Decoder(vocab_inp_size, embedding_dim,units, batch_size)\n",
        "sample_decoder_output, _ = decoder(tf.random.uniform((batch_size, 1)), sample_hidden)\n",
        "print('Decoder output shape: (batch size, vocab_size) {}'.format(sample_decoder_output.shape))"
      ]
    },
    {
      "cell_type": "code",
      "execution_count": null,
      "metadata": {
        "id": "GIx5nEzhzs3k"
      },
      "outputs": [],
      "source": [
        "# create the optimizer using the Adam optimizer\n",
        "optimizer = tf.keras.optimizers.Adam()\n",
        "# create the loss function\n",
        "loss_object = tf.keras.losses.SparseCategoricalCrossentropy(\n",
        "    from_logits=False, reduction='none')\n",
        "\n",
        "# define the loss function for the training\n",
        "def loss_function(real, pred):\n",
        "  # create the mask to ignore the padding tokens\n",
        "  mask = tf.math.logical_not(tf.math.equal(real, 0))\n",
        "  # mask shape == (batch_size, sequence_length)\n",
        "  # calculate the loss\n",
        "  loss_ = loss_object(real, pred)\n",
        "  # mask the loss\n",
        "  # how the mask works:\n",
        "  # if the value is 1, the loss is calculated\n",
        "  # if the value is 0, the loss is ignored\n",
        "    #[1,1,1,1,1,1,0,0,0,0,0] mask\n",
        "    # *\n",
        "    #[2,6,2,1,6,3,2,1,5,7,9] input\n",
        "    # =\n",
        "    #[2,6,2,1,6,3,0,0,0,0,0] output\n",
        "  mask = tf.cast(mask, dtype=loss_.dtype)\n",
        "  # mask shape == (batch_size, sequence_length)\n",
        "\n",
        "  loss_ *= mask\n",
        "  # calculate the average loss per batch\n",
        "  return tf.reduce_mean(loss_)"
      ]
    },
    {
      "cell_type": "code",
      "execution_count": null,
      "metadata": {
        "id": "UeFdH-9kzs3l"
      },
      "outputs": [],
      "source": [
        "# create the training metric\n",
        "train_loss = tf.metrics.Mean(name='train loss')\n",
        "# create the testing metric\n",
        "test_loss =tf.metrics.Mean(name='test loss')"
      ]
    },
    {
      "cell_type": "code",
      "execution_count": null,
      "metadata": {
        "id": "c2QuJAZbzs3l"
      },
      "outputs": [],
      "source": [
        "# create the training step\n",
        "# using the tf.function decorator to speed up the training process by converting the training function to a TensorFlow graph\n",
        "@tf.function\n",
        "# define the training step\n",
        "def train_step(inputs, target, enc_hidden):\n",
        "  # the encoder_hidden is the initial hidden state of the encoder\n",
        "  # enc_hidden shape == (batch_size, hidden_size)\n",
        "\n",
        "  # inilaize the loss to zero\n",
        "  loss = 0\n",
        "  # create the gradient tape to record the gradient of the loss with respect to the weights\n",
        "\n",
        "  with tf.GradientTape() as tape:\n",
        "    # pass the input to the encoder\n",
        "    # enc_output shape == (batch_size, 49, hidden_size)\n",
        "    # enc_hidden shape == (batch_size, hidden_size)\n",
        "    # using the encoder to get the encoder_output and the encoder_hidden\n",
        "    # using the encoder_hidden as the initial hidden state of the decoder\n",
        "    enc_output, enc_hidden = encoder(inputs, enc_hidden)\n",
        "    # set the initial decoder hidden state to the encoder hidden state\n",
        "    dec_hidden = enc_hidden\n",
        "\n",
        "    # create the start token\n",
        "    # start_token shape == (batch_size, 1)\n",
        "    # repeat the start token for the batch size times\n",
        "    dec_input = tf.expand_dims([answer_tokenizer.word_index['<start>']] * inputs.shape[0], 1)\n",
        "\n",
        "    # Teacher forcing - feeding the target as the next input\n",
        "\n",
        "    for t in range(1, target.shape[1]):\n",
        "      # passing enc_output to the decoder\n",
        "      predictions, dec_hidden = decoder(dec_input, dec_hidden)\n",
        "      # calculate the loss for the current time step using the loss function\n",
        "      loss += loss_function(target[:, t], predictions)\n",
        "\n",
        "      # using teacher forcing\n",
        "      dec_input = tf.expand_dims(target[:, t], 1)\n",
        "  # calculate the loss for the current batch\n",
        "  batch_loss = (loss / int(target.shape[1]))\n",
        "\n",
        "  # get the trainable variables\n",
        "  variables = encoder.trainable_variables + decoder.trainable_variables\n",
        "  # calculate the gradients using the tape\n",
        "  gradients = tape.gradient(loss, variables)\n",
        "  # update the trainable variables\n",
        "  optimizer.apply_gradients(zip(gradients, variables))\n",
        "  # add the loss to the training loss metric\n",
        "  train_loss(batch_loss)\n",
        "  return batch_loss"
      ]
    },
    {
      "cell_type": "code",
      "execution_count": null,
      "metadata": {
        "id": "YdfKlsaczs3l"
      },
      "outputs": [],
      "source": [
        "# create the training step\n",
        "# using the tf.function decorator to speed up the training process by converting the training function to a TensorFlow graph\n",
        "@tf.function\n",
        "def test_step(inputs, target, enc_hidden):\n",
        "    # the encoder_hidden is the initial hidden state of the encoder\n",
        "    # enc_hidden shape == (batch_size, hidden_size)\n",
        "    # inilaize the loss to zero\n",
        "    loss = 0\n",
        "    # pass the input to the encoder\n",
        "    # enc_output shape == (batch_size, 49, hidden_size)\n",
        "    # enc_hidden shape == (batch_size, hidden_size)\n",
        "    # using the encoder to get the encoder_output and the encoder_hidden\n",
        "    enc_output, enc_hidden = encoder(inputs, enc_hidden)\n",
        "    # set the initial decoder hidden state to the encoder hidden state\n",
        "    dec_hidden = enc_hidden\n",
        "    # create the start token\n",
        "    # start_token shape == (batch_size, 1)\n",
        "    # repeat the start token for the batch size times\n",
        "    dec_input = tf.expand_dims([answer_tokenizer.word_index['<start>']] * inputs.shape[0], 1)\n",
        "    for t in range(1, target.shape[1]):\n",
        "        # passing enc_output to the decoder with dec_hidden as the initial hidden state\n",
        "        predictions, dec_hidden = decoder(dec_input, dec_hidden)\n",
        "        # calculate the loss for the current time step using the loss function\n",
        "        loss += loss_function(target[:, t], predictions)\n",
        "\n",
        "        # using teacher forcing\n",
        "        dec_input = tf.expand_dims(target[:, t], 1)\n",
        "    # calculate the loss for the current batch\n",
        "    batch_loss = (loss / int(target.shape[1]))\n",
        "    # add the batch loss to the test loss metric\n",
        "    test_loss(batch_loss)"
      ]
    },
    {
      "cell_type": "code",
      "execution_count": null,
      "metadata": {
        "id": "71A7rOv0zs3m"
      },
      "outputs": [],
      "source": [
        "import tensorflow as tf\n",
        "\n",
        "# Define your variables outside the function\n",
        "# Example:\n",
        "# my_variable = tf.Variable(...)\n",
        "\n",
        "@tf.function\n",
        "def my_function(inputs, targets, my_variable):\n",
        "    # Your function implementation here\n",
        "    pass\n",
        "\n",
        "# Then call your function passing the variables as arguments\n",
        "# Example:\n",
        "# result = my_function(inputs, targets, my_variable)\n"
      ]
    },
    {
      "cell_type": "code",
      "execution_count": null,
      "metadata": {
        "id": "6vYkLrMmzs3m"
      },
      "outputs": [],
      "source": [
        "# set the epochs to 10\n",
        "EPOCHS = 10\n",
        "# set the old test loss to high number\n",
        "\n",
        "old_test_loss=1000000\n",
        "# create the training loop\n",
        "for epoch in range(EPOCHS):\n",
        "    # reset the training loss metric\n",
        "    train_loss.reset_states()\n",
        "    # reset the testing loss metric\n",
        "    test_loss.reset_states()\n",
        "    # idden state of the encoder to zeros\n",
        "\n",
        "    # initalize the hidden state of the encoder to zeros\n",
        "    enc_hidden = encoder.initialize_hidden_state()\n",
        "    # create the training progress bar set the total number of batches to the length of the training dataset and the batch size to the test size\n",
        "    steps_per_epoch = answer_squence.shape[0]//batch_size #=> 4356 batch in the dataset\n",
        "    bar = tf.keras.utils.Progbar(target=steps_per_epoch)\n",
        "\n",
        "    count=0\n",
        "    # iterate over the training dataset\n",
        "    for (batch, (inputs, target)) in enumerate(train_dataset):\n",
        "        # update the progress barbar\n",
        "        count += 1\n",
        "        # run the training step serstep\n",
        "        batch_loss = train_step(inputs, target, enc_hidden)\n",
        "        bar.update(count)  # manually update the progress bar\n",
        "\n",
        "\n",
        "\n",
        "\n",
        "    # iterate over the testing dataset\n",
        "    for (batch, (inputs, target)) in enumerate(test_dataset):\n",
        "        count += 1\n",
        "        # run the testing step\n",
        "        batch_loss = test_step(inputs, target, enc_hidden)\n",
        "        bar.update(count)\n",
        "    # save the best performance model on the test dataset\n",
        "\n",
        "    if old_test_loss> test_loss.result():\n",
        "        # set the old test loss to the test loss\n",
        "        old_test_loss= test_loss.result()\n",
        "        encoder.save(filepath='/content/models/encoder')\n",
        "        decoder.save(filepath='/content/models/decoder')\n",
        "        print('Model is saved')\n",
        "    # print the training and testing loss\n",
        "    print('#' * 50)\n",
        "    print(f'Epoch #{epoch + 1}')\n",
        "    print(f'Training Loss {train_loss.result()}')\n",
        "    print(f'Testing Loss {test_loss.result()}')\n",
        "    print('#' * 50)"
      ]
    },
    {
      "cell_type": "code",
      "execution_count": null,
      "metadata": {
        "id": "VZZ42al2zs3n"
      },
      "outputs": [],
      "source": [
        "# create the chatbot function\n",
        "# the chatbot function takes in the question as input and answers the input sentence\n",
        "def chatbot(sentence):\n",
        "\n",
        "  # clean the input question sentence\n",
        "  sentence = clean_text(sentence)\n",
        "  # add the start token to the sentence\n",
        "  sentence =add_start_end(sentence)\n",
        "  # tokenize the sentence\n",
        "  inputs = answer_tokenizer.texts_to_sequences([sentence])\n",
        "  # pad the sentence\n",
        "  inputs = tf.keras.preprocessing.sequence.pad_sequences(inputs,\n",
        "                                                         maxlen=49,\n",
        "                                                         padding='post')\n",
        "\n",
        "  # initalize the hidden state of the encoder to zeros\n",
        "  hidden = [tf.zeros((1, units))]\n",
        "  # pass the sentence to the encoder with the hidden state as the initial hidden state\n",
        "  enc_out, enc_hidden = encoder(inputs, hidden)\n",
        "  # set the initial decoder hidden state to the encoder hidden state\n",
        "  dec_hidden = enc_hidden\n",
        "  # create the start token\n",
        "  # start_token shape == (batch_size, 1)\n",
        "  # repeat the start token for the batch size times\n",
        "  dec_input = tf.expand_dims([answer_tokenizer.word_index['<start>']], 0)\n",
        "  # create the result string\n",
        "  result = ''\n",
        "  # loop over the length of the sentence (32)\n",
        "\n",
        "  for t in range(32):\n",
        "    # passing the encoder output and the decoder hidden state to the decoder make sure the decoder input is the previous predicted word\n",
        "    predictions, dec_hidden = decoder(dec_input, dec_hidden)\n",
        "\n",
        "    # getting the predicted word index\n",
        "    predicted_id = tf.argmax(predictions[0]).numpy()\n",
        "    # getting the predicted word using the predicted index\n",
        "    # add the predicted word to the result string\n",
        "    result += answer_tokenizer.index_word[predicted_id] + ' '\n",
        "    # if the predicted word is the  token then stop the loop\n",
        "    if answer_tokenizer.index_word[predicted_id] == '<end>':\n",
        "      # remove the  and  tokens from the result string\n",
        "      result = result.replace('<start>', '')\n",
        "      result = result.replace('<end>','')\n",
        "      # remove the  and  tokens from the sentence string\n",
        "      sentence = sentence.replace('<start>', '')\n",
        "      sentence = sentence.replace('<end>', '')\n",
        "      return  sentence, result\n",
        "\n",
        "    # using the predicted word as the next decoder input\n",
        "    dec_input = tf.expand_dims([predicted_id], 0)\n",
        "  # remove the  and  tokens from the result string\n",
        "  result = result.replace('<start>', '')\n",
        "  result = result.replace('<end>','')\n",
        "  # remove the  and  tokens from the sentence string\n",
        "  sentence = sentence.replace('<start>', '')\n",
        "  sentence = sentence.replace('<end>', '')\n",
        "\n",
        "\n",
        "  # return the result string and the original sentence\n",
        "  return sentence, result"
      ]
    },
    {
      "cell_type": "code",
      "execution_count": null,
      "metadata": {
        "id": "rW8tQxhUbvYE"
      },
      "outputs": [],
      "source": [
        "chatbot(\"how are you to day\")"
      ]
    },
    {
      "cell_type": "code",
      "execution_count": null,
      "metadata": {},
      "outputs": [],
      "source": []
    }
  ],
  "metadata": {
    "accelerator": "TPU",
    "colab": {
      "gpuType": "V28",
      "provenance": []
    },
    "kernelspec": {
      "display_name": "Python 3",
      "name": "python3"
    },
    "language_info": {
      "codemirror_mode": {
        "name": "ipython",
        "version": 3
      },
      "file_extension": ".py",
      "mimetype": "text/x-python",
      "name": "python",
      "nbconvert_exporter": "python",
      "pygments_lexer": "ipython3",
      "version": "3.10.4"
    }
  },
  "nbformat": 4,
  "nbformat_minor": 0
}
